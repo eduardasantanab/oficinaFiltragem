{
 "cells": [
  {
   "cell_type": "markdown",
   "metadata": {},
   "source": [
    "## Operações básicas: exibir uma imagem"
   ]
  },
  {
   "cell_type": "code",
   "execution_count": null,
   "metadata": {},
   "outputs": [],
   "source": [
    "import cv2 as cv\n",
    "import numpy as np\n",
    "from matplotlib import pyplot as plt"
   ]
  },
  {
   "cell_type": "code",
   "execution_count": null,
   "metadata": {},
   "outputs": [],
   "source": [
    "# Função para exibir imagem dentro do notebook.\n",
    "def exibir_imagem_plt(img):\n",
    "\timg = cv.cvtColor(img, cv.COLOR_BGR2RGB)\n",
    "\tplt.imshow(img)\n",
    "\tprint(f\"Dimensões da imagem: {img.shape[:2]}\")"
   ]
  },
  {
   "cell_type": "code",
   "execution_count": null,
   "metadata": {},
   "outputs": [],
   "source": [
    "# Exibindo a imagem externamente usando o OpenCv\n",
    "def exibir_imagem_cv(img):\n",
    "\tcv.imshow(\"IMAGE\", img)\n",
    "\tcv.waitKey(0)\n",
    "\tcv.destroyAllWindows()"
   ]
  },
  {
   "cell_type": "markdown",
   "metadata": {},
   "source": [
    "## Filtragem de suavização"
   ]
  },
  {
   "cell_type": "markdown",
   "metadata": {},
   "source": [
    "-> Filtro da média"
   ]
  },
  {
   "cell_type": "code",
   "execution_count": null,
   "metadata": {},
   "outputs": [],
   "source": [
    "#define a imagem\n",
    "img = cv.imread('circuito.jpg')\n",
    "assert img is not None, 'arquivo não pode ser lido'"
   ]
  },
  {
   "cell_type": "code",
   "execution_count": null,
   "metadata": {},
   "outputs": [],
   "source": [
    "#exibe a imagem antes da filtragem\n",
    "exibir_imagem_plt(img)"
   ]
  },
  {
   "cell_type": "code",
   "execution_count": null,
   "metadata": {},
   "outputs": [],
   "source": [
    "#aplica o filtro da média\n",
    "filtrada = cv.blur(img, (5, 5))"
   ]
  },
  {
   "cell_type": "code",
   "execution_count": null,
   "metadata": {},
   "outputs": [],
   "source": [
    "#exibe a imagem filtrada\n",
    "exibir_imagem_plt(filtrada)"
   ]
  },
  {
   "cell_type": "markdown",
   "metadata": {},
   "source": [
    "-> Filtro da mediana"
   ]
  },
  {
   "cell_type": "code",
   "execution_count": null,
   "metadata": {},
   "outputs": [],
   "source": [
    "#define a imagem\n",
    "img = cv.imread('circuito.jpg')\n",
    "assert img is not None, 'arquivo não pode ser lido'"
   ]
  },
  {
   "cell_type": "code",
   "execution_count": null,
   "metadata": {},
   "outputs": [],
   "source": [
    "#exibe a imagem antes da filtragem\n",
    "exibir_imagem_plt(img)"
   ]
  },
  {
   "cell_type": "code",
   "execution_count": null,
   "metadata": {},
   "outputs": [],
   "source": [
    "#aplica o filtro de suavizacao da mediana\n",
    "filtrada = cv.medianBlur(img, 5)"
   ]
  },
  {
   "cell_type": "code",
   "execution_count": null,
   "metadata": {},
   "outputs": [],
   "source": [
    "#exibe a imagem filtrada\n",
    "exibir_imagem_plt(filtrada)"
   ]
  },
  {
   "cell_type": "markdown",
   "metadata": {},
   "source": [
    "## Filtragem de realce"
   ]
  },
  {
   "cell_type": "code",
   "execution_count": null,
   "metadata": {},
   "outputs": [],
   "source": [
    "#define a imagem\n",
    "img = cv.imread('airplane.png')\n",
    "assert img is not None, 'arquivo não pode ser lido'"
   ]
  },
  {
   "cell_type": "code",
   "execution_count": null,
   "metadata": {},
   "outputs": [],
   "source": [
    "#exibe a imagem antes da filtragem\n",
    "exibir_imagem_plt(img)"
   ]
  },
  {
   "cell_type": "code",
   "execution_count": null,
   "metadata": {},
   "outputs": [],
   "source": [
    "#converte a imagem para preto e branco\n",
    "gray = cv.cvtColor(img, cv.COLOR_BGR2GRAY)\n",
    "exibir_imagem_plt(gray)"
   ]
  },
  {
   "cell_type": "code",
   "execution_count": null,
   "metadata": {},
   "outputs": [],
   "source": [
    "#aplica filtro de realce nos gradientes x e y\n",
    "grad_x = cv.Sobel(gray, -1, 1, 0, ksize=3)\n",
    "grad_y = cv.Sobel(gray, -1, 0, 1, ksize=3)"
   ]
  },
  {
   "cell_type": "code",
   "execution_count": null,
   "metadata": {},
   "outputs": [],
   "source": [
    "#converte gradientes para o valor absoluto\n",
    "abs_grad_x = cv.convertScaleAbs(grad_x)\n",
    "abs_grad_y = cv.convertScaleAbs(grad_y)"
   ]
  },
  {
   "cell_type": "code",
   "execution_count": null,
   "metadata": {},
   "outputs": [],
   "source": [
    "#interpola os gradientes absolutos\n",
    "grad = cv.addWeighted(abs_grad_x, 0.5, abs_grad_y, 0.5, 0)"
   ]
  },
  {
   "cell_type": "code",
   "execution_count": null,
   "metadata": {},
   "outputs": [],
   "source": [
    "#exibe a imagem filtrada\n",
    "exibir_imagem_plt(grad)"
   ]
  },
  {
   "cell_type": "markdown",
   "metadata": {},
   "source": [
    "-> Aplicar uma máscara específica"
   ]
  },
  {
   "cell_type": "code",
   "execution_count": null,
   "metadata": {},
   "outputs": [],
   "source": [
    "#Máscara de Prewitt \n",
    "kernel_x = np.array([[-1, 0, 1], \n",
    "                    [-1, 0, 1], \n",
    "                    [-1, 0, 1]])\n",
    "        \n",
    "kernel_y = np.array([[-1, -1, -1], \n",
    "                    [0, 0, 0], \n",
    "                    [1, 1, 1]])\n",
    "\n",
    "grad_x = cv.filter2D(gray, -1, kernel_x)\n",
    "grad_y = cv.filter2D(gray, -1, kernel_y)\n",
    "    \n",
    "abs_grad_x = cv.convertScaleAbs(grad_x)\n",
    "abs_grad_y = cv.convertScaleAbs(grad_y)\n",
    "\n",
    "grad = cv.addWeighted(abs_grad_x, 0.5, abs_grad_y, 0.5, 0)\n",
    "\n",
    "exibir_imagem_plt(grad)"
   ]
  }
 ],
 "metadata": {
  "kernelspec": {
   "display_name": "opencv",
   "language": "python",
   "name": "python3"
  },
  "language_info": {
   "name": "python",
   "version": "3.12.0"
  }
 },
 "nbformat": 4,
 "nbformat_minor": 2
}
